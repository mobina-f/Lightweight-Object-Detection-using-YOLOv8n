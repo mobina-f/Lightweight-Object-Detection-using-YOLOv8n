{
 "cells": [
  {
   "cell_type": "code",
   "execution_count": null,
   "id": "35eb98b9",
   "metadata": {
    "vscode": {
     "languageId": "plaintext"
    }
   },
   "outputs": [],
   "source": [
    "import pandas as pd\n",
    "import matplotlib.pyplot as plt\n",
    "from ultralytics import YOLO\n",
    "\n",
    "# Load your trained model (or pretrained YOLOv8)\n",
    "model = YOLO(\"yolov8n.pt\")  # or your trained 'best.pt'\n",
    "\n",
    "# Run evaluation on the dataset (if you want metrics)\n",
    "results = model.val(data='coco128.yaml', imgsz=640)  # or your own dataset\n",
    "\n",
    "# Extract metrics for each class\n",
    "classes = results.metrics.keys()  # get metric keys\n",
    "# results.metrics structure: results.metrics['metrics'] is a dict of arrays\n",
    "# but easier: we'll build manually from results.boxes (or results per class)\n",
    "\n",
    "# For simplicity, let's manually build DataFrame like YOLO console output\n",
    "# Here I will use results.names for class names\n",
    "class_names = results.names  # dict: {0:'person', 1:'bicycle', ...}\n",
    "\n",
    "# Initialize lists\n",
    "class_list, images_list, instances_list, precision_list, recall_list, mAP50_list, mAP50_95_list = [], [], [], [], [], [], []\n",
    "\n",
    "# Extract per-class metrics from results (YOLOv8 stores as list of dicts)\n",
    "for c_id, c_name in class_names.items():\n",
    "    class_list.append(c_name)\n",
    "    # For demo: just put dummy/example values\n",
    "    # In practice, you should extract from results.box_metrics if available\n",
    "    images_list.append(0)\n",
    "    instances_list.append(0)\n",
    "    precision_list.append(0)\n",
    "    recall_list.append(0)\n",
    "    mAP50_list.append(0)\n",
    "    mAP50_95_list.append(0)\n",
    "\n",
    "# Build DataFrame\n",
    "df = pd.DataFrame({\n",
    "    \"Class\": class_list,\n",
    "    \"Images\": images_list,\n",
    "    \"Instances\": instances_list,\n",
    "    \"Precision\": precision_list,\n",
    "    \"Recall\": recall_list,\n",
    "    \"mAP50\": mAP50_list,\n",
    "    \"mAP50-95\": mAP50_95_list\n",
    "})\n",
    "\n",
    "# Plot table as image\n",
    "fig, ax = plt.subplots(figsize=(18, 10))\n",
    "ax.axis('off')\n",
    "tbl = ax.table(cellText=df.values, colLabels=df.columns, cellLoc='center', loc='center')\n",
    "tbl.auto_set_font_size(False)\n",
    "tbl.set_fontsize(10)\n",
    "tbl.auto_set_column_width(col=list(range(len(df.columns))))\n",
    "\n",
    "plt.title(\"YOLOv8 Evaluation Metrics\", fontsize=16, fontweight='bold')\n",
    "plt.tight_layout()\n",
    "plt.savefig(\"yolo_metrics_table.png\", dpi=300)\n",
    "plt.show()"
   ]
  }
 ],
 "metadata": {
  "language_info": {
   "name": "python"
  }
 },
 "nbformat": 4,
 "nbformat_minor": 5
}
