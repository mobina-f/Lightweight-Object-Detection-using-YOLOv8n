{
 "cells": [
  {
   "cell_type": "code",
   "execution_count": null,
   "id": "692e29e5",
   "metadata": {
    "vscode": {
     "languageId": "plaintext"
    }
   },
   "outputs": [],
   "source": [
    "# Install YOLOv8\n",
    "!pip install ultralytics\n",
    "\n",
    "# Import libraries\n",
    "from ultralytics import YOLO\n",
    "import cv2\n",
    "from google.colab.patches import cv2_imshow\n",
    "\n",
    "# Load a lightweight model (YOLOv8 nano)\n",
    "model = YOLO('yolov8n.pt')\n",
    "\n",
    "# Run inference on a sample image\n",
    "results = model('https://ultralytics.com/images/bus.jpg')\n",
    "\n",
    "# Display detections\n",
    "for r in results:\n",
    "    r.show()  # show with bounding boxes\n",
    "    im = r.plot()  # get image with detections\n",
    "    cv2_imshow(im)\n",
    "\n",
    "# Train on COCO128 dataset\n",
    "# save=True ensures the model is saved after each epoch\n",
    "model.train(data='coco128.yaml', epochs=5, imgsz=640, save=True)\n",
    "\n",
    "# Run inference on another sample image\n",
    "results = model('https://ultralytics.com/images/zidane.jpg')\n",
    "\n",
    "for r in results:\n",
    "    r.show()\n",
    "    im = r.plot()\n",
    "    cv2_imshow(im)\n"
   ]
  }
 ],
 "metadata": {
  "language_info": {
   "name": "python"
  }
 },
 "nbformat": 4,
 "nbformat_minor": 5
}
